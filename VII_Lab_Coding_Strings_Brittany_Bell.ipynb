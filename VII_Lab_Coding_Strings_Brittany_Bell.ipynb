{
  "nbformat": 4,
  "nbformat_minor": 0,
  "metadata": {
    "kernelspec": {
      "display_name": "Python 3",
      "language": "python",
      "name": "python3"
    },
    "language_info": {
      "codemirror_mode": {
        "name": "ipython",
        "version": 3
      },
      "file_extension": ".py",
      "mimetype": "text/x-python",
      "name": "python",
      "nbconvert_exporter": "python",
      "pygments_lexer": "ipython3",
      "version": "3.8.3"
    },
    "colab": {
      "name": "VII_Lab_Coding_Strings Brittany Bell.ipynb",
      "provenance": [],
      "collapsed_sections": [],
      "include_colab_link": true
    }
  },
  "cells": [
    {
      "cell_type": "markdown",
      "metadata": {
        "id": "view-in-github",
        "colab_type": "text"
      },
      "source": [
        "<a href=\"https://colab.research.google.com/github/elfbread/elfbread/blob/main/VII_Lab_Coding_Strings_Brittany_Bell.ipynb\" target=\"_parent\"><img src=\"https://colab.research.google.com/assets/colab-badge.svg\" alt=\"Open In Colab\"/></a>"
      ]
    },
    {
      "cell_type": "markdown",
      "metadata": {
        "id": "DZ5wqW3HUmCV"
      },
      "source": [
        "<h1>Strings Lab</h1>"
      ]
    },
    {
      "cell_type": "markdown",
      "metadata": {
        "id": "nud3L2h2UmCW"
      },
      "source": [
        "<h3>Problem 1</h3>\n",
        "Using what you've learned up to this point in the module, write Python code in the cell below that will display the character codes for the uppercase alphabet letters (A-Z) and the lowercase alphabet letters (a-z) using the `chr` and/or `ord` function. Format the output so that each letter and associated character code appears on a separate line divided into two columns. Be sure to include a header row with column labels in the output as shown (partially) below:\n",
        "<pre>\n",
        "Letter Code\n",
        "  A     65\n",
        "  B     66\n",
        "  C     67\n",
        "  D     68\n",
        "  E     69\n",
        "...\n",
        "  x    120\n",
        "  y    121\n",
        "  z    122</pre>\n"
      ]
    },
    {
      "cell_type": "code",
      "metadata": {
        "colab": {
          "base_uri": "https://localhost:8080/"
        },
        "id": "gDiBoBfxUmCX",
        "outputId": "3dec61be-680e-44d0-8eb7-ccf32b60efa9"
      },
      "source": [
        "import string\n",
        "\n",
        "alphabet_lowercase=string.ascii_lowercase #generate lowercase alphabet\n",
        "alphabet_list_lowercase = list(alphabet_lowercase)\n",
        "alphabet_uppercase=string.ascii_uppercase #generate uppercase alphabet\n",
        "alphabet_list_uppercase = list(alphabet_uppercase)\n",
        "alphabet_list=alphabet_list_uppercase + alphabet_list_lowercase\n",
        "\n",
        "\n",
        "unicode_list = [] # creating list with unicode values\n",
        "unicode_list = [ord(x) for x in alphabet_list]\n",
        "\n",
        "column1 = alphabet_list # create combined_list and print with alphabet_list in one column and unicode_list in other\n",
        "column2 = unicode_list \n",
        "combined_list = \"\\n\".join(\"{}          {}\".format(x, y) for x, y in zip(column1, column2))\n",
        "\n",
        "print(\"Letter\" \"    \" \"Code\") #final output\n",
        "print(combined_list)"
      ],
      "execution_count": null,
      "outputs": [
        {
          "output_type": "stream",
          "text": [
            "Letter    Code\n",
            "A          65\n",
            "B          66\n",
            "C          67\n",
            "D          68\n",
            "E          69\n",
            "F          70\n",
            "G          71\n",
            "H          72\n",
            "I          73\n",
            "J          74\n",
            "K          75\n",
            "L          76\n",
            "M          77\n",
            "N          78\n",
            "O          79\n",
            "P          80\n",
            "Q          81\n",
            "R          82\n",
            "S          83\n",
            "T          84\n",
            "U          85\n",
            "V          86\n",
            "W          87\n",
            "X          88\n",
            "Y          89\n",
            "Z          90\n",
            "a          97\n",
            "b          98\n",
            "c          99\n",
            "d          100\n",
            "e          101\n",
            "f          102\n",
            "g          103\n",
            "h          104\n",
            "i          105\n",
            "j          106\n",
            "k          107\n",
            "l          108\n",
            "m          109\n",
            "n          110\n",
            "o          111\n",
            "p          112\n",
            "q          113\n",
            "r          114\n",
            "s          115\n",
            "t          116\n",
            "u          117\n",
            "v          118\n",
            "w          119\n",
            "x          120\n",
            "y          121\n",
            "z          122\n"
          ],
          "name": "stdout"
        }
      ]
    },
    {
      "cell_type": "markdown",
      "metadata": {
        "id": "nsAAj6QyUmCY"
      },
      "source": [
        "<h3>Problem 2</h3>\n",
        "Using what you've learned up to this point in the module, write Python code in the cell below that will input a string from the user and then determine if the string is a _palindrome_. A palindrome is a word or a phrase that is the same when read both forward and backward. For example, __BOB__ is a palindrome but __ALICE__ is not. Your code should ignore spaces and case in the input string when determining if the entered string is a palindrome. Several examples are shown below:\n",
        "<pre>\n",
        "Enter a phrase and I will tell you whether it is a palindrome: Bob\n",
        "IS a palindrome\n",
        "\n",
        "Enter a phrase and I will tell you whether it is a palindrome: AlIcE\n",
        "IS NOT a palindrome\n",
        "\n",
        "Enter a phrase and I will tell you whether it is a palindrome: Able was I ere I saw Elba\n",
        "IS a palindrome\n",
        "</pre>\n",
        "\n",
        "__Hint__: There are many ways to solve this problem but one of the easiest is to start by converting the case of the input to upper (or lower) case and then removing spaces from the string before comparing the resulting string to its reverse. If the string matches its reverse then it is a palindrome."
      ]
    },
    {
      "cell_type": "code",
      "metadata": {
        "colab": {
          "base_uri": "https://localhost:8080/"
        },
        "id": "zxHHpKz_UmCa",
        "outputId": "fb0b433c-a29f-408a-a14c-c87eb1adf879"
      },
      "source": [
        "def isPalindrome(user_input):\n",
        "     \n",
        "    \n",
        "    rev = ''.join(reversed(user_input))\n",
        " \n",
        "    \n",
        "    if (user_input == rev):\n",
        "        return True\n",
        "    return False\n",
        " \n",
        "\n",
        "user_input = input(\"Enter a phrase and I will tell you whether it is a palindrome: \").lower()\n",
        "ans = isPalindrome(user_input)\n",
        " \n",
        "if (ans):\n",
        "  print(\"IS a palindrome\")\n",
        "else:\n",
        "  print(\"IS NOT a palindrome\")"
      ],
      "execution_count": null,
      "outputs": [
        {
          "output_type": "stream",
          "text": [
            "Enter a phrase and I will tell you whether it is a palindrome: Alex\n",
            "IS NOT a palindrom\n"
          ],
          "name": "stdout"
        }
      ]
    },
    {
      "cell_type": "code",
      "metadata": {
        "id": "roCg2k-xVmE5"
      },
      "source": [
        ""
      ],
      "execution_count": null,
      "outputs": []
    }
  ]
}